{
  "cells": [
    {
      "cell_type": "markdown",
      "metadata": {
        "id": "view-in-github",
        "colab_type": "text"
      },
      "source": [
        "<a href=\"https://colab.research.google.com/github/jjackson1994/molecular_simulations/blob/main/Melika/pytorch.ipynb\" target=\"_parent\"><img src=\"https://colab.research.google.com/assets/colab-badge.svg\" alt=\"Open In Colab\"/></a>"
      ]
    },
    {
      "cell_type": "code",
      "source": [
        "!pip install sentence_transformers"
      ],
      "metadata": {
        "id": "KnDIekI7WCFD"
      },
      "id": "KnDIekI7WCFD",
      "execution_count": null,
      "outputs": []
    },
    {
      "cell_type": "code",
      "source": [
        "!pip install torch_geometric"
      ],
      "metadata": {
        "id": "pi6MLpK8WE1w"
      },
      "id": "pi6MLpK8WE1w",
      "execution_count": null,
      "outputs": []
    },
    {
      "cell_type": "code",
      "execution_count": null,
      "id": "3fb1b684",
      "metadata": {
        "scrolled": true,
        "id": "3fb1b684"
      },
      "outputs": [],
      "source": [
        "import torch\n",
        "import os.path as osp\n",
        "from sentence_transformers import SentenceTransformer\n",
        "import pandas as pd\n",
        "from torch_geometric.data import HeteroData\n",
        "import torch_geometric.transforms as T\n",
        "from torch_geometric.datasets import OGB_MAG\n",
        "from torch_geometric.nn import SAGEConv, to_hetero\n",
        "import torch_geometric.transforms as T\n",
        "from torch_geometric.datasets import OGB_MAG\n",
        "from torch_geometric.nn import SAGEConv, to_hetero\n",
        "from torch_geometric.loader import NeighborLoader\n",
        "from torch_geometric.loader import LinkNeighborLoader\n",
        "from torch import Tensor\n",
        "%matplotlib inline\n",
        "import matplotlib.pyplot as plt\n",
        "from sklearn.manifold import TSNE\n",
        "import os\n",
        "import torch"
      ]
    },
    {
      "cell_type": "code",
      "execution_count": null,
      "id": "8d1622d0",
      "metadata": {
        "colab": {
          "base_uri": "https://localhost:8080/"
        },
        "id": "8d1622d0",
        "outputId": "62fbddec-059b-4a1a-8307-eb7797ac7989"
      },
      "outputs": [
        {
          "output_type": "stream",
          "name": "stdout",
          "text": [
            "2.0.1+cu118\n",
            "\u001b[2K     \u001b[90m━━━━━━━━━━━━━━━━━━━━━━━━━━━━━━━━━━━━━━━━\u001b[0m \u001b[32m10.2/10.2 MB\u001b[0m \u001b[31m60.4 MB/s\u001b[0m eta \u001b[36m0:00:00\u001b[0m\n",
            "\u001b[2K     \u001b[90m━━━━━━━━━━━━━━━━━━━━━━━━━━━━━━━━━━━━━━━━\u001b[0m \u001b[32m4.8/4.8 MB\u001b[0m \u001b[31m30.0 MB/s\u001b[0m eta \u001b[36m0:00:00\u001b[0m\n",
            "\u001b[?25h  Installing build dependencies ... \u001b[?25l\u001b[?25hdone\n",
            "  Getting requirements to build wheel ... \u001b[?25l\u001b[?25hdone\n",
            "  Preparing metadata (pyproject.toml) ... \u001b[?25l\u001b[?25hdone\n",
            "  Building wheel for torch_geometric (pyproject.toml) ... \u001b[?25l\u001b[?25hdone\n"
          ]
        }
      ],
      "source": [
        "\n",
        "os.environ['TORCH'] = torch.__version__\n",
        "print(torch.__version__)\n",
        "\n",
        "!pip install -q torch-scatter -f https://data.pyg.org/whl/torch-${TORCH}.html\n",
        "!pip install -q torch-sparse -f https://data.pyg.org/whl/torch-${TORCH}.html\n",
        "!pip install -q git+https://github.com/pyg-team/pytorch_geometric.git\n",
        "\n",
        "\n",
        "\n"
      ]
    },
    {
      "cell_type": "code",
      "source": [
        "\n",
        "def visualize(h, color):\n",
        "    z = TSNE(n_components=2).fit_transform(h.detach().cpu().numpy())\n",
        "\n",
        "    plt.figure(figsize=(10,10))\n",
        "    plt.xticks([])\n",
        "    plt.yticks([])\n",
        "\n",
        "    plt.scatter(z[:, 0], z[:, 1], s=70, c=color, cmap=\"Set2\")\n",
        "    plt.show()"
      ],
      "metadata": {
        "id": "of10pu5FX-Ee"
      },
      "id": "of10pu5FX-Ee",
      "execution_count": null,
      "outputs": []
    },
    {
      "cell_type": "code",
      "execution_count": null,
      "id": "197c6f34",
      "metadata": {
        "id": "197c6f34"
      },
      "outputs": [],
      "source": [
        "#!pip install sentence-transformers\n",
        "#!pip install torch_geometric"
      ]
    },
    {
      "cell_type": "code",
      "execution_count": null,
      "id": "1b53fdf0",
      "metadata": {
        "id": "1b53fdf0"
      },
      "outputs": [],
      "source": [
        "p_path= '/content/1ARG.csv'\n",
        "\n",
        "df = pd.read_csv(p_path)"
      ]
    },
    {
      "cell_type": "code",
      "execution_count": null,
      "id": "5cbc036a",
      "metadata": {
        "colab": {
          "base_uri": "https://localhost:8080/",
          "height": 288
        },
        "id": "5cbc036a",
        "outputId": "e9dd1559-46db-4378-8de4-1c6f23b33662"
      },
      "outputs": [
        {
          "output_type": "execute_result",
          "data": {
            "text/plain": [
              "   Unnamed: 0 PdbID  Res1  Res2 ChainRes1 ChainRes2  DensityRes1  DensityRes2  \\\n",
              "0           0  1ARG     5     7         A         A        3.304        0.057   \n",
              "1           1  1ARG     5     7         B         B        3.555        0.148   \n",
              "2           2  1ARG     5     8         A         A        3.304        0.000   \n",
              "3           3  1ARG     5     8         B         B        3.555        0.000   \n",
              "4           4  1ARG     5     9         A         A        3.304        3.957   \n",
              "\n",
              "  AA1 AA2  NativeEnergy  DecoyEnergy  SDEnergy  FrstIndex Welltype  FrstState  \n",
              "0   M   E        -1.267       -1.571     0.444     -0.685     long    neutral  \n",
              "1   M   E        -1.422       -1.571     0.444     -0.336     long    neutral  \n",
              "2   M   N        -1.291       -1.571     0.444     -0.631     long    neutral  \n",
              "3   M   N        -1.295       -1.571     0.444     -0.622     long    neutral  \n",
              "4   M   I        -2.553       -1.571     0.444      2.210     long  minimally  "
            ],
            "text/html": [
              "\n",
              "  <div id=\"df-80c70c43-fa3b-4ae9-9bbc-89f2b19fe350\">\n",
              "    <div class=\"colab-df-container\">\n",
              "      <div>\n",
              "<style scoped>\n",
              "    .dataframe tbody tr th:only-of-type {\n",
              "        vertical-align: middle;\n",
              "    }\n",
              "\n",
              "    .dataframe tbody tr th {\n",
              "        vertical-align: top;\n",
              "    }\n",
              "\n",
              "    .dataframe thead th {\n",
              "        text-align: right;\n",
              "    }\n",
              "</style>\n",
              "<table border=\"1\" class=\"dataframe\">\n",
              "  <thead>\n",
              "    <tr style=\"text-align: right;\">\n",
              "      <th></th>\n",
              "      <th>Unnamed: 0</th>\n",
              "      <th>PdbID</th>\n",
              "      <th>Res1</th>\n",
              "      <th>Res2</th>\n",
              "      <th>ChainRes1</th>\n",
              "      <th>ChainRes2</th>\n",
              "      <th>DensityRes1</th>\n",
              "      <th>DensityRes2</th>\n",
              "      <th>AA1</th>\n",
              "      <th>AA2</th>\n",
              "      <th>NativeEnergy</th>\n",
              "      <th>DecoyEnergy</th>\n",
              "      <th>SDEnergy</th>\n",
              "      <th>FrstIndex</th>\n",
              "      <th>Welltype</th>\n",
              "      <th>FrstState</th>\n",
              "    </tr>\n",
              "  </thead>\n",
              "  <tbody>\n",
              "    <tr>\n",
              "      <th>0</th>\n",
              "      <td>0</td>\n",
              "      <td>1ARG</td>\n",
              "      <td>5</td>\n",
              "      <td>7</td>\n",
              "      <td>A</td>\n",
              "      <td>A</td>\n",
              "      <td>3.304</td>\n",
              "      <td>0.057</td>\n",
              "      <td>M</td>\n",
              "      <td>E</td>\n",
              "      <td>-1.267</td>\n",
              "      <td>-1.571</td>\n",
              "      <td>0.444</td>\n",
              "      <td>-0.685</td>\n",
              "      <td>long</td>\n",
              "      <td>neutral</td>\n",
              "    </tr>\n",
              "    <tr>\n",
              "      <th>1</th>\n",
              "      <td>1</td>\n",
              "      <td>1ARG</td>\n",
              "      <td>5</td>\n",
              "      <td>7</td>\n",
              "      <td>B</td>\n",
              "      <td>B</td>\n",
              "      <td>3.555</td>\n",
              "      <td>0.148</td>\n",
              "      <td>M</td>\n",
              "      <td>E</td>\n",
              "      <td>-1.422</td>\n",
              "      <td>-1.571</td>\n",
              "      <td>0.444</td>\n",
              "      <td>-0.336</td>\n",
              "      <td>long</td>\n",
              "      <td>neutral</td>\n",
              "    </tr>\n",
              "    <tr>\n",
              "      <th>2</th>\n",
              "      <td>2</td>\n",
              "      <td>1ARG</td>\n",
              "      <td>5</td>\n",
              "      <td>8</td>\n",
              "      <td>A</td>\n",
              "      <td>A</td>\n",
              "      <td>3.304</td>\n",
              "      <td>0.000</td>\n",
              "      <td>M</td>\n",
              "      <td>N</td>\n",
              "      <td>-1.291</td>\n",
              "      <td>-1.571</td>\n",
              "      <td>0.444</td>\n",
              "      <td>-0.631</td>\n",
              "      <td>long</td>\n",
              "      <td>neutral</td>\n",
              "    </tr>\n",
              "    <tr>\n",
              "      <th>3</th>\n",
              "      <td>3</td>\n",
              "      <td>1ARG</td>\n",
              "      <td>5</td>\n",
              "      <td>8</td>\n",
              "      <td>B</td>\n",
              "      <td>B</td>\n",
              "      <td>3.555</td>\n",
              "      <td>0.000</td>\n",
              "      <td>M</td>\n",
              "      <td>N</td>\n",
              "      <td>-1.295</td>\n",
              "      <td>-1.571</td>\n",
              "      <td>0.444</td>\n",
              "      <td>-0.622</td>\n",
              "      <td>long</td>\n",
              "      <td>neutral</td>\n",
              "    </tr>\n",
              "    <tr>\n",
              "      <th>4</th>\n",
              "      <td>4</td>\n",
              "      <td>1ARG</td>\n",
              "      <td>5</td>\n",
              "      <td>9</td>\n",
              "      <td>A</td>\n",
              "      <td>A</td>\n",
              "      <td>3.304</td>\n",
              "      <td>3.957</td>\n",
              "      <td>M</td>\n",
              "      <td>I</td>\n",
              "      <td>-2.553</td>\n",
              "      <td>-1.571</td>\n",
              "      <td>0.444</td>\n",
              "      <td>2.210</td>\n",
              "      <td>long</td>\n",
              "      <td>minimally</td>\n",
              "    </tr>\n",
              "  </tbody>\n",
              "</table>\n",
              "</div>\n",
              "      <button class=\"colab-df-convert\" onclick=\"convertToInteractive('df-80c70c43-fa3b-4ae9-9bbc-89f2b19fe350')\"\n",
              "              title=\"Convert this dataframe to an interactive table.\"\n",
              "              style=\"display:none;\">\n",
              "        \n",
              "  <svg xmlns=\"http://www.w3.org/2000/svg\" height=\"24px\"viewBox=\"0 0 24 24\"\n",
              "       width=\"24px\">\n",
              "    <path d=\"M0 0h24v24H0V0z\" fill=\"none\"/>\n",
              "    <path d=\"M18.56 5.44l.94 2.06.94-2.06 2.06-.94-2.06-.94-.94-2.06-.94 2.06-2.06.94zm-11 1L8.5 8.5l.94-2.06 2.06-.94-2.06-.94L8.5 2.5l-.94 2.06-2.06.94zm10 10l.94 2.06.94-2.06 2.06-.94-2.06-.94-.94-2.06-.94 2.06-2.06.94z\"/><path d=\"M17.41 7.96l-1.37-1.37c-.4-.4-.92-.59-1.43-.59-.52 0-1.04.2-1.43.59L10.3 9.45l-7.72 7.72c-.78.78-.78 2.05 0 2.83L4 21.41c.39.39.9.59 1.41.59.51 0 1.02-.2 1.41-.59l7.78-7.78 2.81-2.81c.8-.78.8-2.07 0-2.86zM5.41 20L4 18.59l7.72-7.72 1.47 1.35L5.41 20z\"/>\n",
              "  </svg>\n",
              "      </button>\n",
              "      \n",
              "  <style>\n",
              "    .colab-df-container {\n",
              "      display:flex;\n",
              "      flex-wrap:wrap;\n",
              "      gap: 12px;\n",
              "    }\n",
              "\n",
              "    .colab-df-convert {\n",
              "      background-color: #E8F0FE;\n",
              "      border: none;\n",
              "      border-radius: 50%;\n",
              "      cursor: pointer;\n",
              "      display: none;\n",
              "      fill: #1967D2;\n",
              "      height: 32px;\n",
              "      padding: 0 0 0 0;\n",
              "      width: 32px;\n",
              "    }\n",
              "\n",
              "    .colab-df-convert:hover {\n",
              "      background-color: #E2EBFA;\n",
              "      box-shadow: 0px 1px 2px rgba(60, 64, 67, 0.3), 0px 1px 3px 1px rgba(60, 64, 67, 0.15);\n",
              "      fill: #174EA6;\n",
              "    }\n",
              "\n",
              "    [theme=dark] .colab-df-convert {\n",
              "      background-color: #3B4455;\n",
              "      fill: #D2E3FC;\n",
              "    }\n",
              "\n",
              "    [theme=dark] .colab-df-convert:hover {\n",
              "      background-color: #434B5C;\n",
              "      box-shadow: 0px 1px 3px 1px rgba(0, 0, 0, 0.15);\n",
              "      filter: drop-shadow(0px 1px 2px rgba(0, 0, 0, 0.3));\n",
              "      fill: #FFFFFF;\n",
              "    }\n",
              "  </style>\n",
              "\n",
              "      <script>\n",
              "        const buttonEl =\n",
              "          document.querySelector('#df-80c70c43-fa3b-4ae9-9bbc-89f2b19fe350 button.colab-df-convert');\n",
              "        buttonEl.style.display =\n",
              "          google.colab.kernel.accessAllowed ? 'block' : 'none';\n",
              "\n",
              "        async function convertToInteractive(key) {\n",
              "          const element = document.querySelector('#df-80c70c43-fa3b-4ae9-9bbc-89f2b19fe350');\n",
              "          const dataTable =\n",
              "            await google.colab.kernel.invokeFunction('convertToInteractive',\n",
              "                                                     [key], {});\n",
              "          if (!dataTable) return;\n",
              "\n",
              "          const docLinkHtml = 'Like what you see? Visit the ' +\n",
              "            '<a target=\"_blank\" href=https://colab.research.google.com/notebooks/data_table.ipynb>data table notebook</a>'\n",
              "            + ' to learn more about interactive tables.';\n",
              "          element.innerHTML = '';\n",
              "          dataTable['output_type'] = 'display_data';\n",
              "          await google.colab.output.renderOutput(dataTable, element);\n",
              "          const docLink = document.createElement('div');\n",
              "          docLink.innerHTML = docLinkHtml;\n",
              "          element.appendChild(docLink);\n",
              "        }\n",
              "      </script>\n",
              "    </div>\n",
              "  </div>\n",
              "  "
            ]
          },
          "metadata": {},
          "execution_count": 4
        }
      ],
      "source": [
        "df.head()"
      ]
    },
    {
      "cell_type": "code",
      "execution_count": null,
      "id": "792864bc",
      "metadata": {
        "id": "792864bc"
      },
      "outputs": [],
      "source": [
        "def load_node_csv(path, index_col, encoders=None, **kwargs):\n",
        "    df = pd.read_csv(path, index_col=index_col, **kwargs)\n",
        "    mapping = {index: i for i, index in enumerate(df.index.unique())}\n",
        "\n",
        "    x = None\n",
        "    if encoders is not None:\n",
        "        xs = [encoder(df[col]) for col, encoder in encoders.items()]\n",
        "        x = torch.cat(xs, dim=-1)\n",
        "\n",
        "    return x, mapping"
      ]
    },
    {
      "cell_type": "code",
      "execution_count": null,
      "id": "59bc858d",
      "metadata": {
        "id": "59bc858d"
      },
      "outputs": [],
      "source": [
        "\n",
        "class SequenceEncoder:\n",
        "    def __init__(self, model_name='all-MiniLM-L6-v2', device=None):\n",
        "        self.device = device\n",
        "        self.model = SentenceTransformer(model_name, device=device)\n",
        "\n",
        "    @torch.no_grad()\n",
        "    def __call__(self, df):\n",
        "        x = self.model.encode(df.values, show_progress_bar=True,\n",
        "                              convert_to_tensor=True, device=self.device)\n",
        "        return x.cpu()"
      ]
    },
    {
      "cell_type": "markdown",
      "id": "eccd9b58",
      "metadata": {
        "id": "eccd9b58"
      },
      "source": [
        "here are nodes are the residues. their features are their `Chain name`, and their `amino acid` type. they have their residue number as their index. we defined two types of nodes here with Res1 and Res2:"
      ]
    },
    {
      "cell_type": "code",
      "execution_count": null,
      "id": "13fd8d5b",
      "metadata": {
        "scrolled": true,
        "colab": {
          "base_uri": "https://localhost:8080/",
          "height": 81,
          "referenced_widgets": [
            "1fcd3713868941c9b64557d55226f30d",
            "fe380b63738b414e9547950b5637a513",
            "a8d2d0fa61e744acb8ac3ff6fa089e81",
            "81db05934fc54619bdb71074aa292c96",
            "ae8ca0610d204ef88265571f55873cb8",
            "5da0b649a8ae44e4801df6db29f881c1",
            "c41c9799a4854afc917e5388f4dabc53",
            "4e297c4d63f74cd985d3d54ba8555bf5",
            "f16d13d018ad489abfcb7cce17d382f8",
            "d0d5fa368288403787d1a98e32c61b9d",
            "26eb596d939445c79b091b3ae480402b",
            "baaf063ba9004348ac712db9b917c78a",
            "cbefcdcafe7a4a2a945b263bd1b372fe",
            "1f7b3ac4ebb84b2f9c2b277291b2a37a",
            "d0d866729f2f447786dc4c594a126bc1",
            "0d20766e7fd345daabf9c8d40146b092",
            "e4599877a25e4e36b96c02eb552529de",
            "590ca898ea304647a3950e4e3d35f518",
            "f2859768291944829aff9397fd4ca9eb",
            "52523ac3917345b989b0c678b643e7de",
            "9a7ea7f31ffb44e7b78482c81ca02430",
            "c6488141af904d4aacc1dbe7982c03ad"
          ]
        },
        "id": "13fd8d5b",
        "outputId": "9c8ca56d-d8aa-467f-ab03-33c3bac687a3"
      },
      "outputs": [
        {
          "output_type": "display_data",
          "data": {
            "text/plain": [
              "Batches:   0%|          | 0/183 [00:00<?, ?it/s]"
            ],
            "application/vnd.jupyter.widget-view+json": {
              "version_major": 2,
              "version_minor": 0,
              "model_id": "1fcd3713868941c9b64557d55226f30d"
            }
          },
          "metadata": {}
        },
        {
          "output_type": "display_data",
          "data": {
            "text/plain": [
              "Batches:   0%|          | 0/183 [00:00<?, ?it/s]"
            ],
            "application/vnd.jupyter.widget-view+json": {
              "version_major": 2,
              "version_minor": 0,
              "model_id": "baaf063ba9004348ac712db9b917c78a"
            }
          },
          "metadata": {}
        }
      ],
      "source": [
        "Res1_x, Res1_mapping = load_node_csv(\n",
        "    p_path, index_col='Res1', encoders={\n",
        "        'ChainRes1': SequenceEncoder(),\n",
        "        'AA1': SequenceEncoder()\n",
        "    })"
      ]
    },
    {
      "cell_type": "code",
      "execution_count": null,
      "id": "17b3009d",
      "metadata": {
        "colab": {
          "base_uri": "https://localhost:8080/",
          "height": 81,
          "referenced_widgets": [
            "270fe6cab2964ec79117a1b556463adc",
            "f03e7b0c5f134ef598f10f07704b27a9",
            "476817b42e6e4c11b6fd85a7012e4d3d",
            "8eccc4fe9f70418388c67f3cccb540a7",
            "274a5d7800054d709a09be50deee37e9",
            "f43a7c3f89134e929ba0dbdb192cabc7",
            "c5372941d96a429aab92936a94ed83db",
            "8d51995f121849ae951598676fdcb2bc",
            "54c4b828375a4c7c9d3949f21bdf04fc",
            "bb106ab93fb94fa08cd0b45272c843c7",
            "5ee84b08783f40a9ade923b71ed490b6",
            "0668c395cacd436eb09dc4a2fe365c44",
            "5908a673b0c5452b9fbb82b26e4ee8e0",
            "ef71f6214b7241d38a84cf4b7816a7e5",
            "547d8b0f107d4862bc5d94c2dda7a91a",
            "e60c6a7f9b1e4d4d86b475e577422224",
            "023e1271a5264af7a3a67ae4a61fc333",
            "f3cc9a75ba5f421f93e70c2e9079582a",
            "9453882f9bf64b6987d744635a19ea4f",
            "82a6e08ea22446e085ef01580ef6851f",
            "6ea53da20ca54996a1c1848f216a8d3a",
            "615fb01f0ec04d80bfae910b3b1f9adc"
          ]
        },
        "id": "17b3009d",
        "outputId": "b24c3f4f-f74f-46f5-a23e-717a47bdcf4a"
      },
      "outputs": [
        {
          "output_type": "display_data",
          "data": {
            "text/plain": [
              "Batches:   0%|          | 0/183 [00:00<?, ?it/s]"
            ],
            "application/vnd.jupyter.widget-view+json": {
              "version_major": 2,
              "version_minor": 0,
              "model_id": "270fe6cab2964ec79117a1b556463adc"
            }
          },
          "metadata": {}
        },
        {
          "output_type": "display_data",
          "data": {
            "text/plain": [
              "Batches:   0%|          | 0/183 [00:00<?, ?it/s]"
            ],
            "application/vnd.jupyter.widget-view+json": {
              "version_major": 2,
              "version_minor": 0,
              "model_id": "0668c395cacd436eb09dc4a2fe365c44"
            }
          },
          "metadata": {}
        }
      ],
      "source": [
        "Res2_x, Res2_mapping = load_node_csv(\n",
        "    p_path, index_col='Res2', encoders={\n",
        "        'ChainRes2': SequenceEncoder(),\n",
        "        'AA2': SequenceEncoder()\n",
        "    })"
      ]
    },
    {
      "cell_type": "markdown",
      "id": "a120f2d9",
      "metadata": {
        "id": "a120f2d9"
      },
      "source": [
        "With this, we are ready to initialize our HeteroData object and pass two node types into it:"
      ]
    },
    {
      "cell_type": "code",
      "execution_count": null,
      "id": "a6da9071",
      "metadata": {
        "colab": {
          "base_uri": "https://localhost:8080/"
        },
        "id": "a6da9071",
        "outputId": "912b3b98-0ccb-45c8-b0ca-cfd0a4f944a1"
      },
      "outputs": [
        {
          "output_type": "stream",
          "name": "stdout",
          "text": [
            "HeteroData(\n",
            "  R1={\n",
            "    x=[5830, 768],\n",
            "    node_idx=[5830],\n",
            "  },\n",
            "  R2={\n",
            "    x=[5830, 768],\n",
            "    node_idx=[5830],\n",
            "  }\n",
            ")\n"
          ]
        }
      ],
      "source": [
        "data = HeteroData()\n",
        "\n",
        "data['R1'].x = Res1_x # both of the nodes have features\n",
        "data['R2'].x = Res2_x\n",
        "\n",
        "data[\"R1\"].node_idx = torch.arange(len(df['Res1']))\n",
        "data[\"R2\"].node_idx = torch.arange(len(df['Res2']))\n",
        "\n",
        "print(data)\n"
      ]
    },
    {
      "cell_type": "markdown",
      "id": "203a5d8c",
      "metadata": {
        "id": "203a5d8c"
      },
      "source": [
        "It's time for edge now. we need to connect the nodes together. our edge here is the frustration index:\n",
        "\n",
        "* Here, `src_index_col` and `dst_index_col` define the index columns of source and destination nodes, respectively.\n",
        "* We further make use of the node-level mappings `src_mapping` and `dst_mapping` to ensure that raw indices are mapped to the correct consecutive indices in our final representation."
      ]
    },
    {
      "cell_type": "code",
      "execution_count": null,
      "id": "9f8668d2",
      "metadata": {
        "id": "9f8668d2"
      },
      "outputs": [],
      "source": [
        "def load_edge_csv(path, src_index_col, src_mapping, dst_index_col, dst_mapping,\n",
        "                  encoders=None, **kwargs):\n",
        "    df = pd.read_csv(path, **kwargs)\n",
        "\n",
        "    src = [src_mapping[index] for index in df[src_index_col]]\n",
        "    dst = [dst_mapping[index] for index in df[dst_index_col]]\n",
        "    edge_index = torch.tensor([src, dst])\n",
        "\n",
        "    edge_attr = None\n",
        "    if encoders is not None:\n",
        "        edge_attrs = [encoder(df[col]) for col, encoder in encoders.items()]\n",
        "        edge_attr = torch.cat(edge_attrs, dim=-1)\n",
        "\n",
        "    return edge_index, edge_attr"
      ]
    },
    {
      "cell_type": "markdown",
      "id": "322000e6",
      "metadata": {
        "id": "322000e6"
      },
      "source": [
        "Similarly to `load_node_csv()`, encoders are used to return additional edge-level feature information. For example, for loading the frustration index from the column in csv file, we can define an IdentityEncoder that simply converts a `list of floating-point values` into a `PyTorch tensor`:"
      ]
    },
    {
      "cell_type": "code",
      "execution_count": null,
      "id": "933b33ac",
      "metadata": {
        "id": "933b33ac"
      },
      "outputs": [],
      "source": [
        "class IdentityEncoder:\n",
        "    def __init__(self, dtype=None):\n",
        "        self.dtype = dtype\n",
        "\n",
        "    def __call__(self, df):\n",
        "        return torch.from_numpy(df.values).view(-1, 1).to(self.dtype)"
      ]
    },
    {
      "cell_type": "code",
      "execution_count": null,
      "id": "b1c6a998",
      "metadata": {
        "scrolled": true,
        "colab": {
          "base_uri": "https://localhost:8080/"
        },
        "id": "b1c6a998",
        "outputId": "810ee739-8879-47cd-96cb-ee49d4c48a4f"
      },
      "outputs": [
        {
          "output_type": "stream",
          "name": "stdout",
          "text": [
            "<bound method HeteroData.metadata of HeteroData(\n",
            "  R1={\n",
            "    x=[5830, 768],\n",
            "    node_idx=[5830],\n",
            "  },\n",
            "  R2={\n",
            "    x=[5830, 768],\n",
            "    node_idx=[5830],\n",
            "  },\n",
            "  (R1, F_index, R2)={\n",
            "    edge_index=[2, 5830],\n",
            "    edge_label=[5830, 1],\n",
            "  }\n",
            ")>\n"
          ]
        }
      ],
      "source": [
        "edge_index, edge_label = load_edge_csv(\n",
        "    p_path,\n",
        "    src_index_col='Res1',\n",
        "    src_mapping=Res1_mapping,\n",
        "    dst_index_col='Res2',\n",
        "    dst_mapping=Res2_mapping,\n",
        "    encoders={'FrstIndex': IdentityEncoder(dtype=torch.long)},\n",
        ")\n",
        "\n",
        "data['R1', 'F_index', 'R2'].edge_index = edge_index\n",
        "data['R1', 'F_index', 'R2'].edge_label = edge_label\n",
        "\n",
        "\n",
        "print(data.metadata)"
      ]
    },
    {
      "cell_type": "code",
      "execution_count": null,
      "id": "46bff5d9",
      "metadata": {
        "colab": {
          "base_uri": "https://localhost:8080/"
        },
        "id": "46bff5d9",
        "outputId": "2dce92da-d0e5-44aa-ea06-05a4b29646e0"
      },
      "outputs": [
        {
          "output_type": "execute_result",
          "data": {
            "text/plain": [
              "HeteroData(\n",
              "  R1={\n",
              "    x=[5830, 768],\n",
              "    node_idx=[5830],\n",
              "  },\n",
              "  R2={\n",
              "    x=[5830, 768],\n",
              "    node_idx=[5830],\n",
              "  },\n",
              "  (R1, F_index, R2)={\n",
              "    edge_index=[2, 5830],\n",
              "    edge_label=[5830, 1],\n",
              "  }\n",
              ")"
            ]
          },
          "metadata": {},
          "execution_count": 13
        }
      ],
      "source": [
        "data"
      ]
    },
    {
      "cell_type": "code",
      "execution_count": null,
      "id": "5ed56b60",
      "metadata": {
        "colab": {
          "base_uri": "https://localhost:8080/"
        },
        "id": "5ed56b60",
        "outputId": "a9786b2c-7755-44c2-91bf-dd344a041d33"
      },
      "outputs": [
        {
          "output_type": "execute_result",
          "data": {
            "text/plain": [
              "tensor([[0],\n",
              "        [0],\n",
              "        [0],\n",
              "        [0],\n",
              "        [2],\n",
              "        [2],\n",
              "        [1],\n",
              "        [0],\n",
              "        [0],\n",
              "        [1]])"
            ]
          },
          "metadata": {},
          "execution_count": 14
        }
      ],
      "source": [
        "data['R1', 'F_index', 'R2'].edge_label[:10]"
      ]
    },
    {
      "cell_type": "markdown",
      "id": "cdd8c2a5",
      "metadata": {
        "id": "cdd8c2a5"
      },
      "source": [
        "This **HeteroData object** is the native format of **heterogeneous graphs** in **PyG** and can be used as input for **heterogeneous graph models**."
      ]
    },
    {
      "cell_type": "markdown",
      "id": "ebc599d0",
      "metadata": {
        "id": "ebc599d0"
      },
      "source": [
        "# Heterogeneous Graph Learning:"
      ]
    },
    {
      "cell_type": "markdown",
      "id": "9a1024b0",
      "metadata": {
        "id": "9a1024b0"
      },
      "source": [
        "Heterogeneous graphs come with different types of information attached to nodes and edges. Thus, a single node or edge feature tensor cannot hold all node or edge features of the whole graph, due to differences in type and dimensionality. Instead, a set of types need to be specified for nodes and edges, respectively, each having its own data tensors. As a consequence of the different data structure, the **message passing formulation** changes accordingly, allowing the computation of message and update function conditioned on **node** or **edge type**."
      ]
    },
    {
      "cell_type": "markdown",
      "id": "273887cc",
      "metadata": {
        "id": "273887cc"
      },
      "source": [
        "#### Note: here we have two node types."
      ]
    },
    {
      "cell_type": "markdown",
      "id": "906905e3",
      "metadata": {
        "id": "906905e3"
      },
      "source": [
        "we have created a data object of type torch_geometric.data.HeteroData, for which we defined `node feature tensors`, `edge index tensors` and `edge feature tensors` individually for each type.\n",
        "\n",
        "Node or edge tensors will be automatically created upon first access and indexed by string keys. Node types are identified by a single string while edge types are identified by using a triplet (source_node_type, edge_type, destination_node_type) of strings: the edge type identifier and the two node types between which the edge type can exist. As such, the data object allows different feature dimensionalities for each type."
      ]
    },
    {
      "cell_type": "markdown",
      "id": "1de31045",
      "metadata": {
        "id": "1de31045"
      },
      "source": [
        "Node or edge tensors will be automatically created upon first access and indexed by string keys. Node types are identified by a single string while edge types are identified by using a triplet `(source_node_type, edge_type, destination_node_type)` of strings. the edge type identifier and the two node types between which the edge type can exist."
      ]
    },
    {
      "cell_type": "markdown",
      "id": "15710182",
      "metadata": {
        "id": "15710182"
      },
      "source": [
        "##### The data object can be transferred between devices as usual:"
      ]
    },
    {
      "cell_type": "code",
      "execution_count": null,
      "id": "40fca172",
      "metadata": {
        "id": "40fca172"
      },
      "outputs": [],
      "source": [
        "#data = data.to('cuda:0')\n",
        "#data = data.cpu()"
      ]
    },
    {
      "cell_type": "markdown",
      "id": "315041fc",
      "metadata": {
        "id": "315041fc"
      },
      "source": [
        "## Why not a Homogenious model:\n",
        "\n",
        "Standard Message Passing GNNs (MP-GNNs) can not trivially be applied to heterogeneous graph data, as node and edge features from different types can not be processed by the same functions due to differences in feature type. A natural way to circumvent this is to implement message and update functions individually for each edge type. During runtime, the MP-GNN algorithm would need to iterate over edge type dictionaries during message computation and over node type dictionaries during node updates."
      ]
    },
    {
      "cell_type": "code",
      "execution_count": null,
      "id": "2aec085e",
      "metadata": {
        "id": "2aec085e"
      },
      "outputs": [],
      "source": [
        "data = T.ToUndirected()(data)"
      ]
    },
    {
      "cell_type": "code",
      "execution_count": null,
      "id": "df198f19",
      "metadata": {
        "colab": {
          "base_uri": "https://localhost:8080/"
        },
        "id": "df198f19",
        "outputId": "7fbba0e6-3e2a-4f79-88d2-d63d7417bb78"
      },
      "outputs": [
        {
          "output_type": "execute_result",
          "data": {
            "text/plain": [
              "HeteroData(\n",
              "  R1={\n",
              "    x=[5830, 768],\n",
              "    node_idx=[5830],\n",
              "  },\n",
              "  R2={\n",
              "    x=[5830, 768],\n",
              "    node_idx=[5830],\n",
              "  },\n",
              "  (R1, F_index, R2)={\n",
              "    edge_index=[2, 5830],\n",
              "    edge_label=[5830, 1],\n",
              "  },\n",
              "  (R2, rev_F_index, R1)={\n",
              "    edge_index=[2, 5830],\n",
              "    edge_label=[5830, 1],\n",
              "  }\n",
              ")"
            ]
          },
          "metadata": {},
          "execution_count": 68
        }
      ],
      "source": [
        "data"
      ]
    },
    {
      "cell_type": "code",
      "execution_count": null,
      "id": "3802f412",
      "metadata": {
        "id": "3802f412"
      },
      "outputs": [],
      "source": [
        "data.edge_index = data[\"R1\", \"F_index\", \"R2\"].edge_index\n",
        "data.y = data[\"R1\", \"F_index\", \"R2\"].edge_label.squeeze()"
      ]
    },
    {
      "cell_type": "code",
      "execution_count": null,
      "id": "02aaf0bc",
      "metadata": {
        "colab": {
          "base_uri": "https://localhost:8080/"
        },
        "id": "02aaf0bc",
        "outputId": "e5ddb735-b09e-48ee-9462-de22f1e4f74f"
      },
      "outputs": [
        {
          "output_type": "execute_result",
          "data": {
            "text/plain": [
              "HeteroData(\n",
              "  edge_index=[2, 5830],\n",
              "  y=[5830],\n",
              "  R1={\n",
              "    x=[5830, 768],\n",
              "    node_idx=[5830],\n",
              "  },\n",
              "  R2={\n",
              "    x=[5830, 768],\n",
              "    node_idx=[5830],\n",
              "  },\n",
              "  (R1, F_index, R2)={\n",
              "    edge_index=[2, 5830],\n",
              "    edge_label=[5830, 1],\n",
              "  },\n",
              "  (R2, rev_F_index, R1)={\n",
              "    edge_index=[2, 5830],\n",
              "    edge_label=[5830, 1],\n",
              "  }\n",
              ")"
            ]
          },
          "metadata": {},
          "execution_count": 75
        }
      ],
      "source": [
        "data"
      ]
    },
    {
      "cell_type": "code",
      "execution_count": null,
      "id": "88d9e478",
      "metadata": {
        "id": "88d9e478"
      },
      "outputs": [],
      "source": [
        "transform = T.RandomLinkSplit(\n",
        "    num_val=0.1,\n",
        "    num_test=0.1,\n",
        "    disjoint_train_ratio=0.3,\n",
        "    neg_sampling_ratio=2.0,\n",
        "    add_negative_train_samples=False,\n",
        "    edge_types=(\"R1\", \"F_index\", \"R2\"),\n",
        "    rev_edge_types=(\"R2\", \"rev_F_index\", \"R1\"),\n",
        ")\n",
        "train_data, val_data, test_data = transform(data)"
      ]
    },
    {
      "cell_type": "code",
      "execution_count": null,
      "id": "536ba73e",
      "metadata": {
        "id": "536ba73e"
      },
      "outputs": [],
      "source": [
        "train_data.edge_index = train_data[\"R1\", \"F_index\", \"R2\"].edge_index\n",
        "val_data.edge_index = val_data[\"R1\", \"F_index\", \"R2\"].edge_index\n",
        "test_data.edge_index = test_data[\"R1\", \"F_index\", \"R2\"].edge_index"
      ]
    },
    {
      "cell_type": "code",
      "execution_count": null,
      "id": "fbbc7be3",
      "metadata": {
        "id": "fbbc7be3"
      },
      "outputs": [],
      "source": [
        "train_data.y = train_data[\"R1\", \"F_index\", \"R2\"].edge_label.squeeze()\n",
        "val_data.y = val_data[\"R1\", \"F_index\", \"R2\"].edge_label.squeeze()\n",
        "test_data.y = test_data[\"R1\", \"F_index\", \"R2\"].edge_label.squeeze()"
      ]
    },
    {
      "cell_type": "code",
      "execution_count": null,
      "id": "deaa1a62",
      "metadata": {
        "id": "deaa1a62"
      },
      "outputs": [],
      "source": [
        "import torch_geometric.transforms as T\n",
        "from torch_geometric.nn import SAGEConv, to_hetero\n",
        "\n",
        "class GNN(torch.nn.Module):\n",
        "    def __init__(self, hidden_channels, out_channels):\n",
        "        super().__init__()\n",
        "        self.conv1 = SAGEConv((-1, -1), hidden_channels)\n",
        "        self.conv2 = SAGEConv((-1, -1), out_channels)\n",
        "\n",
        "    def forward(self, x, edge_index):\n",
        "        x = self.conv1(x, edge_index).relu()\n",
        "        x = self.conv2(x, edge_index)\n",
        "        return x\n",
        "\n",
        "\n",
        "model = GNN(hidden_channels=128, out_channels=64)\n",
        "model = to_hetero(model, data.metadata(), aggr='sum')"
      ]
    },
    {
      "cell_type": "markdown",
      "id": "2bbf529d",
      "metadata": {
        "id": "2bbf529d"
      },
      "source": [
        "The model will embed the node features to a size of 64 vectors, and these vectors will be feeded into the following linkp model to predict the rating."
      ]
    },
    {
      "cell_type": "code",
      "execution_count": null,
      "id": "a63115d3",
      "metadata": {
        "id": "a63115d3"
      },
      "outputs": [],
      "source": [
        "import torch.nn.functional as F\n",
        "\n",
        "class LinkP(torch.nn.Module):\n",
        "    def __init__(self, in_channels, hidden_channels, out_channels):\n",
        "        super(LinkP, self).__init__()\n",
        "\n",
        "        self.lins = torch.nn.ModuleList()\n",
        "        self.lins.append(torch.nn.Linear(in_channels, hidden_channels))\n",
        "        self.lins.append(torch.nn.Linear(hidden_channels, out_channels))\n",
        "\n",
        "    def reset_parameters(self):\n",
        "        for lin in self.lins:\n",
        "            lin.reset_parameters()\n",
        "\n",
        "    def forward(self, x_i, x_j):\n",
        "\n",
        "        x = x_i * x_j\n",
        "        for lin in self.lins[:-1]:\n",
        "            x = lin(x)\n",
        "            x = F.relu(x)\n",
        "        x = self.lins[-1](x)\n",
        "        return x\n",
        "linkp=LinkP(64,64,1)"
      ]
    },
    {
      "cell_type": "markdown",
      "id": "883ca57a",
      "metadata": {
        "id": "883ca57a"
      },
      "source": [
        "## Batch :\n",
        "\n",
        "here we considered a limited number of neighbours around the one nodes(in this example we considered 15 nodes, which really make sense since the connections around one amino acid don't usually surpass this amount.)"
      ]
    },
    {
      "cell_type": "code",
      "execution_count": null,
      "id": "9d13d24b",
      "metadata": {
        "scrolled": true,
        "colab": {
          "base_uri": "https://localhost:8080/"
        },
        "id": "9d13d24b",
        "outputId": "ee2339b3-6ee1-4ace-db07-b47957b6e387"
      },
      "outputs": [
        {
          "output_type": "stream",
          "name": "stderr",
          "text": [
            "/usr/local/lib/python3.10/dist-packages/torch_geometric/sampler/neighbor_sampler.py:59: UserWarning: Using 'NeighborSampler' without a 'pyg-lib' installation is deprecated and will be removed soon. Please install 'pyg-lib' for accelerated neighborhood sampling\n",
            "  warnings.warn(f\"Using '{self.__class__.__name__}' without a \"\n"
          ]
        }
      ],
      "source": [
        "#trainloader\n",
        "edge_label_index = train_data[\"R1\", \"F_index\", \"R2\"].edge_label_index\n",
        "edge_label = train_data[\"R1\", \"F_index\", \"R2\"].edge_label\n",
        "train_loader = LinkNeighborLoader(\n",
        "    data=train_data,\n",
        "    num_neighbors=[20, 10],\n",
        "    neg_sampling_ratio=2.0,\n",
        "    edge_label_index=((\"R1\", \"F_index\", \"R2\"), edge_label_index),\n",
        "    edge_label= edge_label,\n",
        "    batch_size=32,\n",
        "    shuffle=True,\n",
        ")\n",
        "\n",
        "\n",
        "\n",
        "#valloader\n",
        "edge_label_index = val_data[\"R1\", \"F_index\", \"R2\"].edge_label_index\n",
        "edge_label = val_data[\"R1\", \"F_index\", \"R2\"].edge_label\n",
        "val_loader = LinkNeighborLoader(\n",
        "    data=val_data,\n",
        "    num_neighbors=[20, 10],\n",
        "    neg_sampling_ratio=2.0,\n",
        "    edge_label_index=((\"R1\", \"F_index\", \"R2\"), edge_label_index),\n",
        "    edge_label= edge_label,\n",
        "    batch_size=32,\n",
        "    shuffle=True,\n",
        ")\n",
        "\n",
        "\n",
        "#Testloader\n",
        "edge_label_index = test_data[\"R1\", \"F_index\", \"R2\"].edge_label_index\n",
        "edge_label = test_data[\"R1\", \"F_index\", \"R2\"].edge_label\n",
        "test_loader = LinkNeighborLoader(\n",
        "    data=test_data,\n",
        "    num_neighbors=[20, 10],\n",
        "    neg_sampling_ratio=2.0,\n",
        "    edge_label_index=((\"R1\", \"F_index\", \"R2\"), edge_label_index),\n",
        "    edge_label= edge_label,\n",
        "    batch_size=32,\n",
        "    shuffle=True,\n",
        ")"
      ]
    },
    {
      "cell_type": "code",
      "execution_count": null,
      "id": "660ed550",
      "metadata": {
        "id": "660ed550"
      },
      "outputs": [],
      "source": [
        "import torch\n",
        "import torch.nn.functional as F\n",
        "from torch_geometric.data import DataLoader\n",
        "from sklearn.metrics import roc_auc_score\n",
        "import tqdm\n",
        "l = []\n",
        "# Training function\n",
        "def train(model, linkp, optimizer, data_loader, device):\n",
        "    model.train()\n",
        "    linkp.train()\n",
        "    total_loss = 0\n",
        "\n",
        "\n",
        "    for data in tqdm.tqdm(data_loader):\n",
        "        data.edge_index = data[\"R1\", \"F_index\", \"R2\"].edge_index\n",
        "        data = data.to(device)\n",
        "        optimizer.zero_grad()\n",
        "\n",
        "        # Forward pass through GNN model\n",
        "        x = model(data.x_dict, data.edge_index_dict)\n",
        "\n",
        "\n",
        "        # Get link prediction scores from LinkP model\n",
        "        R1id = data[\"R1\", \"F_index\", \"R2\"].edge_label_index[0]\n",
        "        R2id = data[\"R1\", \"F_index\", \"R2\"].edge_label_index[1]\n",
        "        edge_scores = linkp(x['R1'][R1id,:], x['R2'][R2id,:])\n",
        "\n",
        "\n",
        "        # Compute binary cross-entropy loss\n",
        "        loss = F.binary_cross_entropy_with_logits(edge_scores, data[\"R1\", \"F_index\", \"R2\"].edge_label.float())\n",
        "\n",
        "        loss.backward()\n",
        "        optimizer.step()\n",
        "        total_loss += loss.item()\n",
        "        l.append(total_loss)\n",
        "\n",
        "\n",
        "    return total_loss / len(data_loader)\n",
        "\n",
        "\n",
        "# Validation function\n",
        "def evaluate(model, linkp, data_loader, device):\n",
        "    model.eval()\n",
        "    linkp.eval()\n",
        "    preds = []\n",
        "    ground_truths = []\n",
        "    total_loss = 0\n",
        "\n",
        "    for data in tqdm.tqdm(data_loader):\n",
        "        data = data.to(device)\n",
        "        with torch.no_grad():\n",
        "            x = model(data.x_dict, data.edge_index_dict)\n",
        "            R1id = data[\"R1\", \"F_index\", \"R2\"].edge_label_index[0]\n",
        "            R2id = data[\"R1\", \"F_index\", \"R2\"].edge_label_index[1]\n",
        "            edge_scores = linkp(x['R1'][R1id,:], x['R2'][R2id,:])\n",
        "\n",
        "        loss = F.binary_cross_entropy_with_logits(edge_scores, data[\"R1\", \"F_index\", \"R2\"].edge_label.float())\n",
        "        optimizer.step()\n",
        "        total_loss += loss.item()\n",
        "\n",
        "\n",
        "\n",
        "    return total_loss / len(data_loader)\n",
        "\n",
        "\n",
        "# Test function\n",
        "def test(model, linkp, data_loader, device):\n",
        "    model.eval()\n",
        "    linkp.eval()\n",
        "    preds = []\n",
        "    ground_truths = []\n",
        "    total_loss = 0\n",
        "\n",
        "    for data in tqdm.tqdm(data_loader):\n",
        "        data = data.to(device)\n",
        "        with torch.no_grad():\n",
        "            x = model(data.x_dict, data.edge_index_dict)\n",
        "            R1id = data[\"R1\", \"F_index\", \"R2\"].edge_label_index[0]\n",
        "            R2id = data[\"R1\", \"F_index\", \"R2\"].edge_label_index[1]\n",
        "            edge_scores = linkp(x['R1'][R1id,:], x['R2'][R2id,:])\n",
        "\n",
        "        loss = F.binary_cross_entropy_with_logits(edge_scores, data[\"R1\", \"F_index\", \"R2\"].edge_label.float())\n",
        "        optimizer.step()\n",
        "        total_loss += loss.item()\n",
        "\n",
        "\n",
        "\n",
        "    return total_loss / len(data_loader)\n",
        "\n"
      ]
    },
    {
      "cell_type": "code",
      "execution_count": null,
      "id": "5967d26c",
      "metadata": {
        "colab": {
          "base_uri": "https://localhost:8080/"
        },
        "id": "5967d26c",
        "outputId": "c5211d6c-40b8-46b1-a927-26272fc9d14a"
      },
      "outputs": [
        {
          "output_type": "stream",
          "name": "stderr",
          "text": [
            "100%|██████████| 44/44 [00:00<00:00, 57.16it/s]\n"
          ]
        },
        {
          "output_type": "execute_result",
          "data": {
            "text/plain": [
              "0.36234208281067287"
            ]
          },
          "metadata": {},
          "execution_count": 115
        }
      ],
      "source": [
        "device = torch.device('cuda' if torch.cuda.is_available() else 'cpu')\n",
        "gnn_model = GNN(hidden_channels=128, out_channels=64).to(device)\n",
        "linkp = LinkP(64, 64, 1).to(device)\n",
        "optimizer = torch.optim.Adam(\n",
        "    list(gnn_model.parameters()) + list(linkp.parameters()), lr=0.01\n",
        ")\n",
        "\n",
        "train(model, linkp, optimizer, train_loader, device)\n"
      ]
    },
    {
      "cell_type": "code",
      "source": [
        "evaluate(model, linkp, val_loader, device)"
      ],
      "metadata": {
        "colab": {
          "base_uri": "https://localhost:8080/"
        },
        "id": "ZJ9Xx86RyE8w",
        "outputId": "42c33a04-65ad-4bae-c209-f473cc079618"
      },
      "id": "ZJ9Xx86RyE8w",
      "execution_count": null,
      "outputs": [
        {
          "output_type": "stream",
          "name": "stderr",
          "text": [
            "100%|██████████| 55/55 [00:00<00:00, 96.96it/s]\n"
          ]
        },
        {
          "output_type": "execute_result",
          "data": {
            "text/plain": [
              "0.5357667484066703"
            ]
          },
          "metadata": {},
          "execution_count": 116
        }
      ]
    },
    {
      "cell_type": "code",
      "source": [
        "test(model, linkp, test_loader, device)"
      ],
      "metadata": {
        "colab": {
          "base_uri": "https://localhost:8080/"
        },
        "id": "8lIJNsCUr9D8",
        "outputId": "2a8b278b-a028-4f23-afa6-a84abb20f34b"
      },
      "id": "8lIJNsCUr9D8",
      "execution_count": null,
      "outputs": [
        {
          "output_type": "stream",
          "name": "stderr",
          "text": [
            "100%|██████████| 55/55 [00:00<00:00, 90.91it/s]\n"
          ]
        },
        {
          "output_type": "execute_result",
          "data": {
            "text/plain": [
              "0.8755594578656283"
            ]
          },
          "metadata": {},
          "execution_count": 117
        }
      ]
    },
    {
      "cell_type": "code",
      "execution_count": null,
      "id": "c961abae",
      "metadata": {
        "colab": {
          "base_uri": "https://localhost:8080/"
        },
        "id": "c961abae",
        "outputId": "f0b15e83-1754-4fbe-9503-851ae179e8d5"
      },
      "outputs": [
        {
          "output_type": "stream",
          "name": "stderr",
          "text": [
            "100%|██████████| 44/44 [00:01<00:00, 36.67it/s]\n",
            "100%|██████████| 55/55 [00:00<00:00, 98.77it/s]\n",
            "100%|██████████| 55/55 [00:00<00:00, 92.76it/s]\n"
          ]
        },
        {
          "output_type": "stream",
          "name": "stdout",
          "text": [
            "Epoch: 001, Train Loss: 0.5705, Val loss: 1.1757\n"
          ]
        },
        {
          "output_type": "stream",
          "name": "stderr",
          "text": [
            "100%|██████████| 44/44 [00:00<00:00, 55.52it/s]\n",
            "100%|██████████| 55/55 [00:00<00:00, 98.53it/s]\n"
          ]
        },
        {
          "output_type": "stream",
          "name": "stdout",
          "text": [
            "Epoch: 002, Train Loss: 0.5722, Val loss: 1.1730\n"
          ]
        },
        {
          "output_type": "stream",
          "name": "stderr",
          "text": [
            "100%|██████████| 44/44 [00:00<00:00, 55.75it/s]\n",
            "100%|██████████| 55/55 [00:00<00:00, 96.47it/s]\n"
          ]
        },
        {
          "output_type": "stream",
          "name": "stdout",
          "text": [
            "Epoch: 003, Train Loss: 0.5730, Val loss: 1.1739\n"
          ]
        },
        {
          "output_type": "stream",
          "name": "stderr",
          "text": [
            "100%|██████████| 44/44 [00:00<00:00, 58.30it/s]\n",
            "100%|██████████| 55/55 [00:00<00:00, 105.81it/s]\n"
          ]
        },
        {
          "output_type": "stream",
          "name": "stdout",
          "text": [
            "Epoch: 004, Train Loss: 0.5713, Val loss: 1.1713\n"
          ]
        },
        {
          "output_type": "stream",
          "name": "stderr",
          "text": [
            "100%|██████████| 44/44 [00:00<00:00, 45.75it/s]\n",
            "100%|██████████| 55/55 [00:00<00:00, 72.14it/s]\n"
          ]
        },
        {
          "output_type": "stream",
          "name": "stdout",
          "text": [
            "Epoch: 005, Train Loss: 0.5697, Val loss: 1.1730\n"
          ]
        },
        {
          "output_type": "stream",
          "name": "stderr",
          "text": [
            "100%|██████████| 44/44 [00:01<00:00, 39.69it/s]\n",
            "100%|██████████| 55/55 [00:00<00:00, 73.92it/s]\n"
          ]
        },
        {
          "output_type": "stream",
          "name": "stdout",
          "text": [
            "Epoch: 006, Train Loss: 0.5722, Val loss: 1.1747\n"
          ]
        },
        {
          "output_type": "stream",
          "name": "stderr",
          "text": [
            "100%|██████████| 44/44 [00:00<00:00, 56.63it/s]\n",
            "100%|██████████| 55/55 [00:00<00:00, 97.04it/s]\n"
          ]
        },
        {
          "output_type": "stream",
          "name": "stdout",
          "text": [
            "Epoch: 007, Train Loss: 0.5746, Val loss: 1.1721\n"
          ]
        },
        {
          "output_type": "stream",
          "name": "stderr",
          "text": [
            "100%|██████████| 44/44 [00:00<00:00, 56.37it/s]\n",
            "100%|██████████| 55/55 [00:00<00:00, 96.78it/s]\n"
          ]
        },
        {
          "output_type": "stream",
          "name": "stdout",
          "text": [
            "Epoch: 008, Train Loss: 0.5755, Val loss: 1.1730\n"
          ]
        },
        {
          "output_type": "stream",
          "name": "stderr",
          "text": [
            "100%|██████████| 44/44 [00:00<00:00, 57.18it/s]\n",
            "100%|██████████| 55/55 [00:00<00:00, 96.88it/s]\n"
          ]
        },
        {
          "output_type": "stream",
          "name": "stdout",
          "text": [
            "Epoch: 009, Train Loss: 0.5738, Val loss: 1.1704\n"
          ]
        },
        {
          "output_type": "stream",
          "name": "stderr",
          "text": [
            "100%|██████████| 44/44 [00:00<00:00, 55.82it/s]\n",
            "100%|██████████| 55/55 [00:00<00:00, 96.85it/s]"
          ]
        },
        {
          "output_type": "stream",
          "name": "stdout",
          "text": [
            "Epoch: 010, Train Loss: 0.5747, Val loss: 1.1722\n",
            "Test loss: 1.1645\n"
          ]
        },
        {
          "output_type": "stream",
          "name": "stderr",
          "text": [
            "\n"
          ]
        }
      ],
      "source": [
        "# after using train_loader, val_loader, and test_loader DataLoader objects\n",
        "device = torch.device('cuda' if torch.cuda.is_available() else 'cpu')\n",
        "gnn_model = GNN(hidden_channels=128, out_channels=64).to(device)\n",
        "linkp_model = LinkP(64, 64, 1).to(device)\n",
        "\n",
        "optimizer = torch.optim.Adam(\n",
        "    list(gnn_model.parameters()) + list(linkp_model.parameters()), lr=0.01\n",
        ")\n",
        "\n",
        "num_epochs = 10\n",
        "best_val_auc = 0.0\n",
        "\n",
        "for epoch in range(num_epochs):\n",
        "    train_loss = train(model, linkp, optimizer, train_loader, device)\n",
        "    val_auc = evaluate(model, linkp, val_loader, device)\n",
        "\n",
        "    if val_auc > best_val_auc:\n",
        "        best_val_auc = val_auc\n",
        "        test_auc =test(model, linkp, test_loader, device)\n",
        "\n",
        "\n",
        "    print(f'Epoch: {epoch+1:03d}, Train Loss: {train_loss:.4f}, Val loss: {val_auc:.4f}')\n",
        "\n",
        "print(f'Test loss: {test_auc:.4f}')"
      ]
    },
    {
      "cell_type": "code",
      "execution_count": null,
      "id": "c960e084",
      "metadata": {
        "id": "c960e084"
      },
      "outputs": [],
      "source": []
    }
  ],
  "metadata": {
    "kernelspec": {
      "display_name": "Python 3 (ipykernel)",
      "language": "python",
      "name": "python3"
    },
    "language_info": {
      "codemirror_mode": {
        "name": "ipython",
        "version": 3
      },
      "file_extension": ".py",
      "mimetype": "text/x-python",
      "name": "python",
      "nbconvert_exporter": "python",
      "pygments_lexer": "ipython3",
      "version": "3.11.4"
    },
    "colab": {
      "provenance": [],
      "include_colab_link": true
    },
    "widgets": {
      "application/vnd.jupyter.widget-state+json": {
        "1fcd3713868941c9b64557d55226f30d": {
          "model_module": "@jupyter-widgets/controls",
          "model_name": "HBoxModel",
          "model_module_version": "1.5.0",
          "state": {
            "_dom_classes": [],
            "_model_module": "@jupyter-widgets/controls",
            "_model_module_version": "1.5.0",
            "_model_name": "HBoxModel",
            "_view_count": null,
            "_view_module": "@jupyter-widgets/controls",
            "_view_module_version": "1.5.0",
            "_view_name": "HBoxView",
            "box_style": "",
            "children": [
              "IPY_MODEL_fe380b63738b414e9547950b5637a513",
              "IPY_MODEL_a8d2d0fa61e744acb8ac3ff6fa089e81",
              "IPY_MODEL_81db05934fc54619bdb71074aa292c96"
            ],
            "layout": "IPY_MODEL_ae8ca0610d204ef88265571f55873cb8"
          }
        },
        "fe380b63738b414e9547950b5637a513": {
          "model_module": "@jupyter-widgets/controls",
          "model_name": "HTMLModel",
          "model_module_version": "1.5.0",
          "state": {
            "_dom_classes": [],
            "_model_module": "@jupyter-widgets/controls",
            "_model_module_version": "1.5.0",
            "_model_name": "HTMLModel",
            "_view_count": null,
            "_view_module": "@jupyter-widgets/controls",
            "_view_module_version": "1.5.0",
            "_view_name": "HTMLView",
            "description": "",
            "description_tooltip": null,
            "layout": "IPY_MODEL_5da0b649a8ae44e4801df6db29f881c1",
            "placeholder": "​",
            "style": "IPY_MODEL_c41c9799a4854afc917e5388f4dabc53",
            "value": "Batches: 100%"
          }
        },
        "a8d2d0fa61e744acb8ac3ff6fa089e81": {
          "model_module": "@jupyter-widgets/controls",
          "model_name": "FloatProgressModel",
          "model_module_version": "1.5.0",
          "state": {
            "_dom_classes": [],
            "_model_module": "@jupyter-widgets/controls",
            "_model_module_version": "1.5.0",
            "_model_name": "FloatProgressModel",
            "_view_count": null,
            "_view_module": "@jupyter-widgets/controls",
            "_view_module_version": "1.5.0",
            "_view_name": "ProgressView",
            "bar_style": "success",
            "description": "",
            "description_tooltip": null,
            "layout": "IPY_MODEL_4e297c4d63f74cd985d3d54ba8555bf5",
            "max": 183,
            "min": 0,
            "orientation": "horizontal",
            "style": "IPY_MODEL_f16d13d018ad489abfcb7cce17d382f8",
            "value": 183
          }
        },
        "81db05934fc54619bdb71074aa292c96": {
          "model_module": "@jupyter-widgets/controls",
          "model_name": "HTMLModel",
          "model_module_version": "1.5.0",
          "state": {
            "_dom_classes": [],
            "_model_module": "@jupyter-widgets/controls",
            "_model_module_version": "1.5.0",
            "_model_name": "HTMLModel",
            "_view_count": null,
            "_view_module": "@jupyter-widgets/controls",
            "_view_module_version": "1.5.0",
            "_view_name": "HTMLView",
            "description": "",
            "description_tooltip": null,
            "layout": "IPY_MODEL_d0d5fa368288403787d1a98e32c61b9d",
            "placeholder": "​",
            "style": "IPY_MODEL_26eb596d939445c79b091b3ae480402b",
            "value": " 183/183 [00:07&lt;00:00, 25.36it/s]"
          }
        },
        "ae8ca0610d204ef88265571f55873cb8": {
          "model_module": "@jupyter-widgets/base",
          "model_name": "LayoutModel",
          "model_module_version": "1.2.0",
          "state": {
            "_model_module": "@jupyter-widgets/base",
            "_model_module_version": "1.2.0",
            "_model_name": "LayoutModel",
            "_view_count": null,
            "_view_module": "@jupyter-widgets/base",
            "_view_module_version": "1.2.0",
            "_view_name": "LayoutView",
            "align_content": null,
            "align_items": null,
            "align_self": null,
            "border": null,
            "bottom": null,
            "display": null,
            "flex": null,
            "flex_flow": null,
            "grid_area": null,
            "grid_auto_columns": null,
            "grid_auto_flow": null,
            "grid_auto_rows": null,
            "grid_column": null,
            "grid_gap": null,
            "grid_row": null,
            "grid_template_areas": null,
            "grid_template_columns": null,
            "grid_template_rows": null,
            "height": null,
            "justify_content": null,
            "justify_items": null,
            "left": null,
            "margin": null,
            "max_height": null,
            "max_width": null,
            "min_height": null,
            "min_width": null,
            "object_fit": null,
            "object_position": null,
            "order": null,
            "overflow": null,
            "overflow_x": null,
            "overflow_y": null,
            "padding": null,
            "right": null,
            "top": null,
            "visibility": null,
            "width": null
          }
        },
        "5da0b649a8ae44e4801df6db29f881c1": {
          "model_module": "@jupyter-widgets/base",
          "model_name": "LayoutModel",
          "model_module_version": "1.2.0",
          "state": {
            "_model_module": "@jupyter-widgets/base",
            "_model_module_version": "1.2.0",
            "_model_name": "LayoutModel",
            "_view_count": null,
            "_view_module": "@jupyter-widgets/base",
            "_view_module_version": "1.2.0",
            "_view_name": "LayoutView",
            "align_content": null,
            "align_items": null,
            "align_self": null,
            "border": null,
            "bottom": null,
            "display": null,
            "flex": null,
            "flex_flow": null,
            "grid_area": null,
            "grid_auto_columns": null,
            "grid_auto_flow": null,
            "grid_auto_rows": null,
            "grid_column": null,
            "grid_gap": null,
            "grid_row": null,
            "grid_template_areas": null,
            "grid_template_columns": null,
            "grid_template_rows": null,
            "height": null,
            "justify_content": null,
            "justify_items": null,
            "left": null,
            "margin": null,
            "max_height": null,
            "max_width": null,
            "min_height": null,
            "min_width": null,
            "object_fit": null,
            "object_position": null,
            "order": null,
            "overflow": null,
            "overflow_x": null,
            "overflow_y": null,
            "padding": null,
            "right": null,
            "top": null,
            "visibility": null,
            "width": null
          }
        },
        "c41c9799a4854afc917e5388f4dabc53": {
          "model_module": "@jupyter-widgets/controls",
          "model_name": "DescriptionStyleModel",
          "model_module_version": "1.5.0",
          "state": {
            "_model_module": "@jupyter-widgets/controls",
            "_model_module_version": "1.5.0",
            "_model_name": "DescriptionStyleModel",
            "_view_count": null,
            "_view_module": "@jupyter-widgets/base",
            "_view_module_version": "1.2.0",
            "_view_name": "StyleView",
            "description_width": ""
          }
        },
        "4e297c4d63f74cd985d3d54ba8555bf5": {
          "model_module": "@jupyter-widgets/base",
          "model_name": "LayoutModel",
          "model_module_version": "1.2.0",
          "state": {
            "_model_module": "@jupyter-widgets/base",
            "_model_module_version": "1.2.0",
            "_model_name": "LayoutModel",
            "_view_count": null,
            "_view_module": "@jupyter-widgets/base",
            "_view_module_version": "1.2.0",
            "_view_name": "LayoutView",
            "align_content": null,
            "align_items": null,
            "align_self": null,
            "border": null,
            "bottom": null,
            "display": null,
            "flex": null,
            "flex_flow": null,
            "grid_area": null,
            "grid_auto_columns": null,
            "grid_auto_flow": null,
            "grid_auto_rows": null,
            "grid_column": null,
            "grid_gap": null,
            "grid_row": null,
            "grid_template_areas": null,
            "grid_template_columns": null,
            "grid_template_rows": null,
            "height": null,
            "justify_content": null,
            "justify_items": null,
            "left": null,
            "margin": null,
            "max_height": null,
            "max_width": null,
            "min_height": null,
            "min_width": null,
            "object_fit": null,
            "object_position": null,
            "order": null,
            "overflow": null,
            "overflow_x": null,
            "overflow_y": null,
            "padding": null,
            "right": null,
            "top": null,
            "visibility": null,
            "width": null
          }
        },
        "f16d13d018ad489abfcb7cce17d382f8": {
          "model_module": "@jupyter-widgets/controls",
          "model_name": "ProgressStyleModel",
          "model_module_version": "1.5.0",
          "state": {
            "_model_module": "@jupyter-widgets/controls",
            "_model_module_version": "1.5.0",
            "_model_name": "ProgressStyleModel",
            "_view_count": null,
            "_view_module": "@jupyter-widgets/base",
            "_view_module_version": "1.2.0",
            "_view_name": "StyleView",
            "bar_color": null,
            "description_width": ""
          }
        },
        "d0d5fa368288403787d1a98e32c61b9d": {
          "model_module": "@jupyter-widgets/base",
          "model_name": "LayoutModel",
          "model_module_version": "1.2.0",
          "state": {
            "_model_module": "@jupyter-widgets/base",
            "_model_module_version": "1.2.0",
            "_model_name": "LayoutModel",
            "_view_count": null,
            "_view_module": "@jupyter-widgets/base",
            "_view_module_version": "1.2.0",
            "_view_name": "LayoutView",
            "align_content": null,
            "align_items": null,
            "align_self": null,
            "border": null,
            "bottom": null,
            "display": null,
            "flex": null,
            "flex_flow": null,
            "grid_area": null,
            "grid_auto_columns": null,
            "grid_auto_flow": null,
            "grid_auto_rows": null,
            "grid_column": null,
            "grid_gap": null,
            "grid_row": null,
            "grid_template_areas": null,
            "grid_template_columns": null,
            "grid_template_rows": null,
            "height": null,
            "justify_content": null,
            "justify_items": null,
            "left": null,
            "margin": null,
            "max_height": null,
            "max_width": null,
            "min_height": null,
            "min_width": null,
            "object_fit": null,
            "object_position": null,
            "order": null,
            "overflow": null,
            "overflow_x": null,
            "overflow_y": null,
            "padding": null,
            "right": null,
            "top": null,
            "visibility": null,
            "width": null
          }
        },
        "26eb596d939445c79b091b3ae480402b": {
          "model_module": "@jupyter-widgets/controls",
          "model_name": "DescriptionStyleModel",
          "model_module_version": "1.5.0",
          "state": {
            "_model_module": "@jupyter-widgets/controls",
            "_model_module_version": "1.5.0",
            "_model_name": "DescriptionStyleModel",
            "_view_count": null,
            "_view_module": "@jupyter-widgets/base",
            "_view_module_version": "1.2.0",
            "_view_name": "StyleView",
            "description_width": ""
          }
        },
        "baaf063ba9004348ac712db9b917c78a": {
          "model_module": "@jupyter-widgets/controls",
          "model_name": "HBoxModel",
          "model_module_version": "1.5.0",
          "state": {
            "_dom_classes": [],
            "_model_module": "@jupyter-widgets/controls",
            "_model_module_version": "1.5.0",
            "_model_name": "HBoxModel",
            "_view_count": null,
            "_view_module": "@jupyter-widgets/controls",
            "_view_module_version": "1.5.0",
            "_view_name": "HBoxView",
            "box_style": "",
            "children": [
              "IPY_MODEL_cbefcdcafe7a4a2a945b263bd1b372fe",
              "IPY_MODEL_1f7b3ac4ebb84b2f9c2b277291b2a37a",
              "IPY_MODEL_d0d866729f2f447786dc4c594a126bc1"
            ],
            "layout": "IPY_MODEL_0d20766e7fd345daabf9c8d40146b092"
          }
        },
        "cbefcdcafe7a4a2a945b263bd1b372fe": {
          "model_module": "@jupyter-widgets/controls",
          "model_name": "HTMLModel",
          "model_module_version": "1.5.0",
          "state": {
            "_dom_classes": [],
            "_model_module": "@jupyter-widgets/controls",
            "_model_module_version": "1.5.0",
            "_model_name": "HTMLModel",
            "_view_count": null,
            "_view_module": "@jupyter-widgets/controls",
            "_view_module_version": "1.5.0",
            "_view_name": "HTMLView",
            "description": "",
            "description_tooltip": null,
            "layout": "IPY_MODEL_e4599877a25e4e36b96c02eb552529de",
            "placeholder": "​",
            "style": "IPY_MODEL_590ca898ea304647a3950e4e3d35f518",
            "value": "Batches: 100%"
          }
        },
        "1f7b3ac4ebb84b2f9c2b277291b2a37a": {
          "model_module": "@jupyter-widgets/controls",
          "model_name": "FloatProgressModel",
          "model_module_version": "1.5.0",
          "state": {
            "_dom_classes": [],
            "_model_module": "@jupyter-widgets/controls",
            "_model_module_version": "1.5.0",
            "_model_name": "FloatProgressModel",
            "_view_count": null,
            "_view_module": "@jupyter-widgets/controls",
            "_view_module_version": "1.5.0",
            "_view_name": "ProgressView",
            "bar_style": "success",
            "description": "",
            "description_tooltip": null,
            "layout": "IPY_MODEL_f2859768291944829aff9397fd4ca9eb",
            "max": 183,
            "min": 0,
            "orientation": "horizontal",
            "style": "IPY_MODEL_52523ac3917345b989b0c678b643e7de",
            "value": 183
          }
        },
        "d0d866729f2f447786dc4c594a126bc1": {
          "model_module": "@jupyter-widgets/controls",
          "model_name": "HTMLModel",
          "model_module_version": "1.5.0",
          "state": {
            "_dom_classes": [],
            "_model_module": "@jupyter-widgets/controls",
            "_model_module_version": "1.5.0",
            "_model_name": "HTMLModel",
            "_view_count": null,
            "_view_module": "@jupyter-widgets/controls",
            "_view_module_version": "1.5.0",
            "_view_name": "HTMLView",
            "description": "",
            "description_tooltip": null,
            "layout": "IPY_MODEL_9a7ea7f31ffb44e7b78482c81ca02430",
            "placeholder": "​",
            "style": "IPY_MODEL_c6488141af904d4aacc1dbe7982c03ad",
            "value": " 183/183 [00:07&lt;00:00, 25.79it/s]"
          }
        },
        "0d20766e7fd345daabf9c8d40146b092": {
          "model_module": "@jupyter-widgets/base",
          "model_name": "LayoutModel",
          "model_module_version": "1.2.0",
          "state": {
            "_model_module": "@jupyter-widgets/base",
            "_model_module_version": "1.2.0",
            "_model_name": "LayoutModel",
            "_view_count": null,
            "_view_module": "@jupyter-widgets/base",
            "_view_module_version": "1.2.0",
            "_view_name": "LayoutView",
            "align_content": null,
            "align_items": null,
            "align_self": null,
            "border": null,
            "bottom": null,
            "display": null,
            "flex": null,
            "flex_flow": null,
            "grid_area": null,
            "grid_auto_columns": null,
            "grid_auto_flow": null,
            "grid_auto_rows": null,
            "grid_column": null,
            "grid_gap": null,
            "grid_row": null,
            "grid_template_areas": null,
            "grid_template_columns": null,
            "grid_template_rows": null,
            "height": null,
            "justify_content": null,
            "justify_items": null,
            "left": null,
            "margin": null,
            "max_height": null,
            "max_width": null,
            "min_height": null,
            "min_width": null,
            "object_fit": null,
            "object_position": null,
            "order": null,
            "overflow": null,
            "overflow_x": null,
            "overflow_y": null,
            "padding": null,
            "right": null,
            "top": null,
            "visibility": null,
            "width": null
          }
        },
        "e4599877a25e4e36b96c02eb552529de": {
          "model_module": "@jupyter-widgets/base",
          "model_name": "LayoutModel",
          "model_module_version": "1.2.0",
          "state": {
            "_model_module": "@jupyter-widgets/base",
            "_model_module_version": "1.2.0",
            "_model_name": "LayoutModel",
            "_view_count": null,
            "_view_module": "@jupyter-widgets/base",
            "_view_module_version": "1.2.0",
            "_view_name": "LayoutView",
            "align_content": null,
            "align_items": null,
            "align_self": null,
            "border": null,
            "bottom": null,
            "display": null,
            "flex": null,
            "flex_flow": null,
            "grid_area": null,
            "grid_auto_columns": null,
            "grid_auto_flow": null,
            "grid_auto_rows": null,
            "grid_column": null,
            "grid_gap": null,
            "grid_row": null,
            "grid_template_areas": null,
            "grid_template_columns": null,
            "grid_template_rows": null,
            "height": null,
            "justify_content": null,
            "justify_items": null,
            "left": null,
            "margin": null,
            "max_height": null,
            "max_width": null,
            "min_height": null,
            "min_width": null,
            "object_fit": null,
            "object_position": null,
            "order": null,
            "overflow": null,
            "overflow_x": null,
            "overflow_y": null,
            "padding": null,
            "right": null,
            "top": null,
            "visibility": null,
            "width": null
          }
        },
        "590ca898ea304647a3950e4e3d35f518": {
          "model_module": "@jupyter-widgets/controls",
          "model_name": "DescriptionStyleModel",
          "model_module_version": "1.5.0",
          "state": {
            "_model_module": "@jupyter-widgets/controls",
            "_model_module_version": "1.5.0",
            "_model_name": "DescriptionStyleModel",
            "_view_count": null,
            "_view_module": "@jupyter-widgets/base",
            "_view_module_version": "1.2.0",
            "_view_name": "StyleView",
            "description_width": ""
          }
        },
        "f2859768291944829aff9397fd4ca9eb": {
          "model_module": "@jupyter-widgets/base",
          "model_name": "LayoutModel",
          "model_module_version": "1.2.0",
          "state": {
            "_model_module": "@jupyter-widgets/base",
            "_model_module_version": "1.2.0",
            "_model_name": "LayoutModel",
            "_view_count": null,
            "_view_module": "@jupyter-widgets/base",
            "_view_module_version": "1.2.0",
            "_view_name": "LayoutView",
            "align_content": null,
            "align_items": null,
            "align_self": null,
            "border": null,
            "bottom": null,
            "display": null,
            "flex": null,
            "flex_flow": null,
            "grid_area": null,
            "grid_auto_columns": null,
            "grid_auto_flow": null,
            "grid_auto_rows": null,
            "grid_column": null,
            "grid_gap": null,
            "grid_row": null,
            "grid_template_areas": null,
            "grid_template_columns": null,
            "grid_template_rows": null,
            "height": null,
            "justify_content": null,
            "justify_items": null,
            "left": null,
            "margin": null,
            "max_height": null,
            "max_width": null,
            "min_height": null,
            "min_width": null,
            "object_fit": null,
            "object_position": null,
            "order": null,
            "overflow": null,
            "overflow_x": null,
            "overflow_y": null,
            "padding": null,
            "right": null,
            "top": null,
            "visibility": null,
            "width": null
          }
        },
        "52523ac3917345b989b0c678b643e7de": {
          "model_module": "@jupyter-widgets/controls",
          "model_name": "ProgressStyleModel",
          "model_module_version": "1.5.0",
          "state": {
            "_model_module": "@jupyter-widgets/controls",
            "_model_module_version": "1.5.0",
            "_model_name": "ProgressStyleModel",
            "_view_count": null,
            "_view_module": "@jupyter-widgets/base",
            "_view_module_version": "1.2.0",
            "_view_name": "StyleView",
            "bar_color": null,
            "description_width": ""
          }
        },
        "9a7ea7f31ffb44e7b78482c81ca02430": {
          "model_module": "@jupyter-widgets/base",
          "model_name": "LayoutModel",
          "model_module_version": "1.2.0",
          "state": {
            "_model_module": "@jupyter-widgets/base",
            "_model_module_version": "1.2.0",
            "_model_name": "LayoutModel",
            "_view_count": null,
            "_view_module": "@jupyter-widgets/base",
            "_view_module_version": "1.2.0",
            "_view_name": "LayoutView",
            "align_content": null,
            "align_items": null,
            "align_self": null,
            "border": null,
            "bottom": null,
            "display": null,
            "flex": null,
            "flex_flow": null,
            "grid_area": null,
            "grid_auto_columns": null,
            "grid_auto_flow": null,
            "grid_auto_rows": null,
            "grid_column": null,
            "grid_gap": null,
            "grid_row": null,
            "grid_template_areas": null,
            "grid_template_columns": null,
            "grid_template_rows": null,
            "height": null,
            "justify_content": null,
            "justify_items": null,
            "left": null,
            "margin": null,
            "max_height": null,
            "max_width": null,
            "min_height": null,
            "min_width": null,
            "object_fit": null,
            "object_position": null,
            "order": null,
            "overflow": null,
            "overflow_x": null,
            "overflow_y": null,
            "padding": null,
            "right": null,
            "top": null,
            "visibility": null,
            "width": null
          }
        },
        "c6488141af904d4aacc1dbe7982c03ad": {
          "model_module": "@jupyter-widgets/controls",
          "model_name": "DescriptionStyleModel",
          "model_module_version": "1.5.0",
          "state": {
            "_model_module": "@jupyter-widgets/controls",
            "_model_module_version": "1.5.0",
            "_model_name": "DescriptionStyleModel",
            "_view_count": null,
            "_view_module": "@jupyter-widgets/base",
            "_view_module_version": "1.2.0",
            "_view_name": "StyleView",
            "description_width": ""
          }
        },
        "270fe6cab2964ec79117a1b556463adc": {
          "model_module": "@jupyter-widgets/controls",
          "model_name": "HBoxModel",
          "model_module_version": "1.5.0",
          "state": {
            "_dom_classes": [],
            "_model_module": "@jupyter-widgets/controls",
            "_model_module_version": "1.5.0",
            "_model_name": "HBoxModel",
            "_view_count": null,
            "_view_module": "@jupyter-widgets/controls",
            "_view_module_version": "1.5.0",
            "_view_name": "HBoxView",
            "box_style": "",
            "children": [
              "IPY_MODEL_f03e7b0c5f134ef598f10f07704b27a9",
              "IPY_MODEL_476817b42e6e4c11b6fd85a7012e4d3d",
              "IPY_MODEL_8eccc4fe9f70418388c67f3cccb540a7"
            ],
            "layout": "IPY_MODEL_274a5d7800054d709a09be50deee37e9"
          }
        },
        "f03e7b0c5f134ef598f10f07704b27a9": {
          "model_module": "@jupyter-widgets/controls",
          "model_name": "HTMLModel",
          "model_module_version": "1.5.0",
          "state": {
            "_dom_classes": [],
            "_model_module": "@jupyter-widgets/controls",
            "_model_module_version": "1.5.0",
            "_model_name": "HTMLModel",
            "_view_count": null,
            "_view_module": "@jupyter-widgets/controls",
            "_view_module_version": "1.5.0",
            "_view_name": "HTMLView",
            "description": "",
            "description_tooltip": null,
            "layout": "IPY_MODEL_f43a7c3f89134e929ba0dbdb192cabc7",
            "placeholder": "​",
            "style": "IPY_MODEL_c5372941d96a429aab92936a94ed83db",
            "value": "Batches: 100%"
          }
        },
        "476817b42e6e4c11b6fd85a7012e4d3d": {
          "model_module": "@jupyter-widgets/controls",
          "model_name": "FloatProgressModel",
          "model_module_version": "1.5.0",
          "state": {
            "_dom_classes": [],
            "_model_module": "@jupyter-widgets/controls",
            "_model_module_version": "1.5.0",
            "_model_name": "FloatProgressModel",
            "_view_count": null,
            "_view_module": "@jupyter-widgets/controls",
            "_view_module_version": "1.5.0",
            "_view_name": "ProgressView",
            "bar_style": "success",
            "description": "",
            "description_tooltip": null,
            "layout": "IPY_MODEL_8d51995f121849ae951598676fdcb2bc",
            "max": 183,
            "min": 0,
            "orientation": "horizontal",
            "style": "IPY_MODEL_54c4b828375a4c7c9d3949f21bdf04fc",
            "value": 183
          }
        },
        "8eccc4fe9f70418388c67f3cccb540a7": {
          "model_module": "@jupyter-widgets/controls",
          "model_name": "HTMLModel",
          "model_module_version": "1.5.0",
          "state": {
            "_dom_classes": [],
            "_model_module": "@jupyter-widgets/controls",
            "_model_module_version": "1.5.0",
            "_model_name": "HTMLModel",
            "_view_count": null,
            "_view_module": "@jupyter-widgets/controls",
            "_view_module_version": "1.5.0",
            "_view_name": "HTMLView",
            "description": "",
            "description_tooltip": null,
            "layout": "IPY_MODEL_bb106ab93fb94fa08cd0b45272c843c7",
            "placeholder": "​",
            "style": "IPY_MODEL_5ee84b08783f40a9ade923b71ed490b6",
            "value": " 183/183 [00:07&lt;00:00, 19.40it/s]"
          }
        },
        "274a5d7800054d709a09be50deee37e9": {
          "model_module": "@jupyter-widgets/base",
          "model_name": "LayoutModel",
          "model_module_version": "1.2.0",
          "state": {
            "_model_module": "@jupyter-widgets/base",
            "_model_module_version": "1.2.0",
            "_model_name": "LayoutModel",
            "_view_count": null,
            "_view_module": "@jupyter-widgets/base",
            "_view_module_version": "1.2.0",
            "_view_name": "LayoutView",
            "align_content": null,
            "align_items": null,
            "align_self": null,
            "border": null,
            "bottom": null,
            "display": null,
            "flex": null,
            "flex_flow": null,
            "grid_area": null,
            "grid_auto_columns": null,
            "grid_auto_flow": null,
            "grid_auto_rows": null,
            "grid_column": null,
            "grid_gap": null,
            "grid_row": null,
            "grid_template_areas": null,
            "grid_template_columns": null,
            "grid_template_rows": null,
            "height": null,
            "justify_content": null,
            "justify_items": null,
            "left": null,
            "margin": null,
            "max_height": null,
            "max_width": null,
            "min_height": null,
            "min_width": null,
            "object_fit": null,
            "object_position": null,
            "order": null,
            "overflow": null,
            "overflow_x": null,
            "overflow_y": null,
            "padding": null,
            "right": null,
            "top": null,
            "visibility": null,
            "width": null
          }
        },
        "f43a7c3f89134e929ba0dbdb192cabc7": {
          "model_module": "@jupyter-widgets/base",
          "model_name": "LayoutModel",
          "model_module_version": "1.2.0",
          "state": {
            "_model_module": "@jupyter-widgets/base",
            "_model_module_version": "1.2.0",
            "_model_name": "LayoutModel",
            "_view_count": null,
            "_view_module": "@jupyter-widgets/base",
            "_view_module_version": "1.2.0",
            "_view_name": "LayoutView",
            "align_content": null,
            "align_items": null,
            "align_self": null,
            "border": null,
            "bottom": null,
            "display": null,
            "flex": null,
            "flex_flow": null,
            "grid_area": null,
            "grid_auto_columns": null,
            "grid_auto_flow": null,
            "grid_auto_rows": null,
            "grid_column": null,
            "grid_gap": null,
            "grid_row": null,
            "grid_template_areas": null,
            "grid_template_columns": null,
            "grid_template_rows": null,
            "height": null,
            "justify_content": null,
            "justify_items": null,
            "left": null,
            "margin": null,
            "max_height": null,
            "max_width": null,
            "min_height": null,
            "min_width": null,
            "object_fit": null,
            "object_position": null,
            "order": null,
            "overflow": null,
            "overflow_x": null,
            "overflow_y": null,
            "padding": null,
            "right": null,
            "top": null,
            "visibility": null,
            "width": null
          }
        },
        "c5372941d96a429aab92936a94ed83db": {
          "model_module": "@jupyter-widgets/controls",
          "model_name": "DescriptionStyleModel",
          "model_module_version": "1.5.0",
          "state": {
            "_model_module": "@jupyter-widgets/controls",
            "_model_module_version": "1.5.0",
            "_model_name": "DescriptionStyleModel",
            "_view_count": null,
            "_view_module": "@jupyter-widgets/base",
            "_view_module_version": "1.2.0",
            "_view_name": "StyleView",
            "description_width": ""
          }
        },
        "8d51995f121849ae951598676fdcb2bc": {
          "model_module": "@jupyter-widgets/base",
          "model_name": "LayoutModel",
          "model_module_version": "1.2.0",
          "state": {
            "_model_module": "@jupyter-widgets/base",
            "_model_module_version": "1.2.0",
            "_model_name": "LayoutModel",
            "_view_count": null,
            "_view_module": "@jupyter-widgets/base",
            "_view_module_version": "1.2.0",
            "_view_name": "LayoutView",
            "align_content": null,
            "align_items": null,
            "align_self": null,
            "border": null,
            "bottom": null,
            "display": null,
            "flex": null,
            "flex_flow": null,
            "grid_area": null,
            "grid_auto_columns": null,
            "grid_auto_flow": null,
            "grid_auto_rows": null,
            "grid_column": null,
            "grid_gap": null,
            "grid_row": null,
            "grid_template_areas": null,
            "grid_template_columns": null,
            "grid_template_rows": null,
            "height": null,
            "justify_content": null,
            "justify_items": null,
            "left": null,
            "margin": null,
            "max_height": null,
            "max_width": null,
            "min_height": null,
            "min_width": null,
            "object_fit": null,
            "object_position": null,
            "order": null,
            "overflow": null,
            "overflow_x": null,
            "overflow_y": null,
            "padding": null,
            "right": null,
            "top": null,
            "visibility": null,
            "width": null
          }
        },
        "54c4b828375a4c7c9d3949f21bdf04fc": {
          "model_module": "@jupyter-widgets/controls",
          "model_name": "ProgressStyleModel",
          "model_module_version": "1.5.0",
          "state": {
            "_model_module": "@jupyter-widgets/controls",
            "_model_module_version": "1.5.0",
            "_model_name": "ProgressStyleModel",
            "_view_count": null,
            "_view_module": "@jupyter-widgets/base",
            "_view_module_version": "1.2.0",
            "_view_name": "StyleView",
            "bar_color": null,
            "description_width": ""
          }
        },
        "bb106ab93fb94fa08cd0b45272c843c7": {
          "model_module": "@jupyter-widgets/base",
          "model_name": "LayoutModel",
          "model_module_version": "1.2.0",
          "state": {
            "_model_module": "@jupyter-widgets/base",
            "_model_module_version": "1.2.0",
            "_model_name": "LayoutModel",
            "_view_count": null,
            "_view_module": "@jupyter-widgets/base",
            "_view_module_version": "1.2.0",
            "_view_name": "LayoutView",
            "align_content": null,
            "align_items": null,
            "align_self": null,
            "border": null,
            "bottom": null,
            "display": null,
            "flex": null,
            "flex_flow": null,
            "grid_area": null,
            "grid_auto_columns": null,
            "grid_auto_flow": null,
            "grid_auto_rows": null,
            "grid_column": null,
            "grid_gap": null,
            "grid_row": null,
            "grid_template_areas": null,
            "grid_template_columns": null,
            "grid_template_rows": null,
            "height": null,
            "justify_content": null,
            "justify_items": null,
            "left": null,
            "margin": null,
            "max_height": null,
            "max_width": null,
            "min_height": null,
            "min_width": null,
            "object_fit": null,
            "object_position": null,
            "order": null,
            "overflow": null,
            "overflow_x": null,
            "overflow_y": null,
            "padding": null,
            "right": null,
            "top": null,
            "visibility": null,
            "width": null
          }
        },
        "5ee84b08783f40a9ade923b71ed490b6": {
          "model_module": "@jupyter-widgets/controls",
          "model_name": "DescriptionStyleModel",
          "model_module_version": "1.5.0",
          "state": {
            "_model_module": "@jupyter-widgets/controls",
            "_model_module_version": "1.5.0",
            "_model_name": "DescriptionStyleModel",
            "_view_count": null,
            "_view_module": "@jupyter-widgets/base",
            "_view_module_version": "1.2.0",
            "_view_name": "StyleView",
            "description_width": ""
          }
        },
        "0668c395cacd436eb09dc4a2fe365c44": {
          "model_module": "@jupyter-widgets/controls",
          "model_name": "HBoxModel",
          "model_module_version": "1.5.0",
          "state": {
            "_dom_classes": [],
            "_model_module": "@jupyter-widgets/controls",
            "_model_module_version": "1.5.0",
            "_model_name": "HBoxModel",
            "_view_count": null,
            "_view_module": "@jupyter-widgets/controls",
            "_view_module_version": "1.5.0",
            "_view_name": "HBoxView",
            "box_style": "",
            "children": [
              "IPY_MODEL_5908a673b0c5452b9fbb82b26e4ee8e0",
              "IPY_MODEL_ef71f6214b7241d38a84cf4b7816a7e5",
              "IPY_MODEL_547d8b0f107d4862bc5d94c2dda7a91a"
            ],
            "layout": "IPY_MODEL_e60c6a7f9b1e4d4d86b475e577422224"
          }
        },
        "5908a673b0c5452b9fbb82b26e4ee8e0": {
          "model_module": "@jupyter-widgets/controls",
          "model_name": "HTMLModel",
          "model_module_version": "1.5.0",
          "state": {
            "_dom_classes": [],
            "_model_module": "@jupyter-widgets/controls",
            "_model_module_version": "1.5.0",
            "_model_name": "HTMLModel",
            "_view_count": null,
            "_view_module": "@jupyter-widgets/controls",
            "_view_module_version": "1.5.0",
            "_view_name": "HTMLView",
            "description": "",
            "description_tooltip": null,
            "layout": "IPY_MODEL_023e1271a5264af7a3a67ae4a61fc333",
            "placeholder": "​",
            "style": "IPY_MODEL_f3cc9a75ba5f421f93e70c2e9079582a",
            "value": "Batches: 100%"
          }
        },
        "ef71f6214b7241d38a84cf4b7816a7e5": {
          "model_module": "@jupyter-widgets/controls",
          "model_name": "FloatProgressModel",
          "model_module_version": "1.5.0",
          "state": {
            "_dom_classes": [],
            "_model_module": "@jupyter-widgets/controls",
            "_model_module_version": "1.5.0",
            "_model_name": "FloatProgressModel",
            "_view_count": null,
            "_view_module": "@jupyter-widgets/controls",
            "_view_module_version": "1.5.0",
            "_view_name": "ProgressView",
            "bar_style": "success",
            "description": "",
            "description_tooltip": null,
            "layout": "IPY_MODEL_9453882f9bf64b6987d744635a19ea4f",
            "max": 183,
            "min": 0,
            "orientation": "horizontal",
            "style": "IPY_MODEL_82a6e08ea22446e085ef01580ef6851f",
            "value": 183
          }
        },
        "547d8b0f107d4862bc5d94c2dda7a91a": {
          "model_module": "@jupyter-widgets/controls",
          "model_name": "HTMLModel",
          "model_module_version": "1.5.0",
          "state": {
            "_dom_classes": [],
            "_model_module": "@jupyter-widgets/controls",
            "_model_module_version": "1.5.0",
            "_model_name": "HTMLModel",
            "_view_count": null,
            "_view_module": "@jupyter-widgets/controls",
            "_view_module_version": "1.5.0",
            "_view_name": "HTMLView",
            "description": "",
            "description_tooltip": null,
            "layout": "IPY_MODEL_6ea53da20ca54996a1c1848f216a8d3a",
            "placeholder": "​",
            "style": "IPY_MODEL_615fb01f0ec04d80bfae910b3b1f9adc",
            "value": " 183/183 [00:07&lt;00:00, 25.55it/s]"
          }
        },
        "e60c6a7f9b1e4d4d86b475e577422224": {
          "model_module": "@jupyter-widgets/base",
          "model_name": "LayoutModel",
          "model_module_version": "1.2.0",
          "state": {
            "_model_module": "@jupyter-widgets/base",
            "_model_module_version": "1.2.0",
            "_model_name": "LayoutModel",
            "_view_count": null,
            "_view_module": "@jupyter-widgets/base",
            "_view_module_version": "1.2.0",
            "_view_name": "LayoutView",
            "align_content": null,
            "align_items": null,
            "align_self": null,
            "border": null,
            "bottom": null,
            "display": null,
            "flex": null,
            "flex_flow": null,
            "grid_area": null,
            "grid_auto_columns": null,
            "grid_auto_flow": null,
            "grid_auto_rows": null,
            "grid_column": null,
            "grid_gap": null,
            "grid_row": null,
            "grid_template_areas": null,
            "grid_template_columns": null,
            "grid_template_rows": null,
            "height": null,
            "justify_content": null,
            "justify_items": null,
            "left": null,
            "margin": null,
            "max_height": null,
            "max_width": null,
            "min_height": null,
            "min_width": null,
            "object_fit": null,
            "object_position": null,
            "order": null,
            "overflow": null,
            "overflow_x": null,
            "overflow_y": null,
            "padding": null,
            "right": null,
            "top": null,
            "visibility": null,
            "width": null
          }
        },
        "023e1271a5264af7a3a67ae4a61fc333": {
          "model_module": "@jupyter-widgets/base",
          "model_name": "LayoutModel",
          "model_module_version": "1.2.0",
          "state": {
            "_model_module": "@jupyter-widgets/base",
            "_model_module_version": "1.2.0",
            "_model_name": "LayoutModel",
            "_view_count": null,
            "_view_module": "@jupyter-widgets/base",
            "_view_module_version": "1.2.0",
            "_view_name": "LayoutView",
            "align_content": null,
            "align_items": null,
            "align_self": null,
            "border": null,
            "bottom": null,
            "display": null,
            "flex": null,
            "flex_flow": null,
            "grid_area": null,
            "grid_auto_columns": null,
            "grid_auto_flow": null,
            "grid_auto_rows": null,
            "grid_column": null,
            "grid_gap": null,
            "grid_row": null,
            "grid_template_areas": null,
            "grid_template_columns": null,
            "grid_template_rows": null,
            "height": null,
            "justify_content": null,
            "justify_items": null,
            "left": null,
            "margin": null,
            "max_height": null,
            "max_width": null,
            "min_height": null,
            "min_width": null,
            "object_fit": null,
            "object_position": null,
            "order": null,
            "overflow": null,
            "overflow_x": null,
            "overflow_y": null,
            "padding": null,
            "right": null,
            "top": null,
            "visibility": null,
            "width": null
          }
        },
        "f3cc9a75ba5f421f93e70c2e9079582a": {
          "model_module": "@jupyter-widgets/controls",
          "model_name": "DescriptionStyleModel",
          "model_module_version": "1.5.0",
          "state": {
            "_model_module": "@jupyter-widgets/controls",
            "_model_module_version": "1.5.0",
            "_model_name": "DescriptionStyleModel",
            "_view_count": null,
            "_view_module": "@jupyter-widgets/base",
            "_view_module_version": "1.2.0",
            "_view_name": "StyleView",
            "description_width": ""
          }
        },
        "9453882f9bf64b6987d744635a19ea4f": {
          "model_module": "@jupyter-widgets/base",
          "model_name": "LayoutModel",
          "model_module_version": "1.2.0",
          "state": {
            "_model_module": "@jupyter-widgets/base",
            "_model_module_version": "1.2.0",
            "_model_name": "LayoutModel",
            "_view_count": null,
            "_view_module": "@jupyter-widgets/base",
            "_view_module_version": "1.2.0",
            "_view_name": "LayoutView",
            "align_content": null,
            "align_items": null,
            "align_self": null,
            "border": null,
            "bottom": null,
            "display": null,
            "flex": null,
            "flex_flow": null,
            "grid_area": null,
            "grid_auto_columns": null,
            "grid_auto_flow": null,
            "grid_auto_rows": null,
            "grid_column": null,
            "grid_gap": null,
            "grid_row": null,
            "grid_template_areas": null,
            "grid_template_columns": null,
            "grid_template_rows": null,
            "height": null,
            "justify_content": null,
            "justify_items": null,
            "left": null,
            "margin": null,
            "max_height": null,
            "max_width": null,
            "min_height": null,
            "min_width": null,
            "object_fit": null,
            "object_position": null,
            "order": null,
            "overflow": null,
            "overflow_x": null,
            "overflow_y": null,
            "padding": null,
            "right": null,
            "top": null,
            "visibility": null,
            "width": null
          }
        },
        "82a6e08ea22446e085ef01580ef6851f": {
          "model_module": "@jupyter-widgets/controls",
          "model_name": "ProgressStyleModel",
          "model_module_version": "1.5.0",
          "state": {
            "_model_module": "@jupyter-widgets/controls",
            "_model_module_version": "1.5.0",
            "_model_name": "ProgressStyleModel",
            "_view_count": null,
            "_view_module": "@jupyter-widgets/base",
            "_view_module_version": "1.2.0",
            "_view_name": "StyleView",
            "bar_color": null,
            "description_width": ""
          }
        },
        "6ea53da20ca54996a1c1848f216a8d3a": {
          "model_module": "@jupyter-widgets/base",
          "model_name": "LayoutModel",
          "model_module_version": "1.2.0",
          "state": {
            "_model_module": "@jupyter-widgets/base",
            "_model_module_version": "1.2.0",
            "_model_name": "LayoutModel",
            "_view_count": null,
            "_view_module": "@jupyter-widgets/base",
            "_view_module_version": "1.2.0",
            "_view_name": "LayoutView",
            "align_content": null,
            "align_items": null,
            "align_self": null,
            "border": null,
            "bottom": null,
            "display": null,
            "flex": null,
            "flex_flow": null,
            "grid_area": null,
            "grid_auto_columns": null,
            "grid_auto_flow": null,
            "grid_auto_rows": null,
            "grid_column": null,
            "grid_gap": null,
            "grid_row": null,
            "grid_template_areas": null,
            "grid_template_columns": null,
            "grid_template_rows": null,
            "height": null,
            "justify_content": null,
            "justify_items": null,
            "left": null,
            "margin": null,
            "max_height": null,
            "max_width": null,
            "min_height": null,
            "min_width": null,
            "object_fit": null,
            "object_position": null,
            "order": null,
            "overflow": null,
            "overflow_x": null,
            "overflow_y": null,
            "padding": null,
            "right": null,
            "top": null,
            "visibility": null,
            "width": null
          }
        },
        "615fb01f0ec04d80bfae910b3b1f9adc": {
          "model_module": "@jupyter-widgets/controls",
          "model_name": "DescriptionStyleModel",
          "model_module_version": "1.5.0",
          "state": {
            "_model_module": "@jupyter-widgets/controls",
            "_model_module_version": "1.5.0",
            "_model_name": "DescriptionStyleModel",
            "_view_count": null,
            "_view_module": "@jupyter-widgets/base",
            "_view_module_version": "1.2.0",
            "_view_name": "StyleView",
            "description_width": ""
          }
        }
      }
    }
  },
  "nbformat": 4,
  "nbformat_minor": 5
}